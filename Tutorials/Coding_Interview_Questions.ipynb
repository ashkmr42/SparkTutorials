{
 "cells": [
  {
   "cell_type": "code",
   "execution_count": 9,
   "id": "7e61f6ef-a1a7-49cf-8c3c-21c45eec57ca",
   "metadata": {},
   "outputs": [
    {
     "name": "stdout",
     "output_type": "stream",
     "text": [
      "<class 'pyspark.sql.dataframe.DataFrame'>\n",
      "StructType(List(StructField(Region,StringType,true),StructField(Country,StringType,true),StructField(Item Type,StringType,true),StructField(Sales Channel,StringType,true),StructField(Order Priority,StringType,true),StructField(Order Date,StringType,true),StructField(Order ID,StringType,true),StructField(Ship Date,StringType,true),StructField(Units Sold,StringType,true),StructField(Unit Price,StringType,true),StructField(Unit Cost,StringType,true),StructField(Total Revenue,StringType,true),StructField(Total Cost,StringType,true),StructField(Total Profit,StringType,true)))\n",
      "+--------------------+--------------------+---------------+-------------+--------------+----------+---------+----------+----------+----------+---------+-------------+----------+------------+\n",
      "|              Region|             Country|      Item Type|Sales Channel|Order Priority|Order Date| Order ID| Ship Date|Units Sold|Unit Price|Unit Cost|Total Revenue|Total Cost|Total Profit|\n",
      "+--------------------+--------------------+---------------+-------------+--------------+----------+---------+----------+----------+----------+---------+-------------+----------+------------+\n",
      "|Middle East and N...|          Azerbaijan|         Snacks|       Online|             C| 10/8/2014|535113847|10/23/2014|       934|    152.58|    97.44|    142509.72|  91008.96|    51500.76|\n",
      "|Central America a...|              Panama|      Cosmetics|      Offline|             L| 2/22/2015|874708545| 2/27/2015|      4551|    437.20|   263.33|   1989697.20|1198414.83|   791282.37|\n",
      "|  Sub-Saharan Africa|Sao Tome and Prin...|         Fruits|      Offline|             M| 12/9/2015|854349935| 1/18/2016|      9986|      9.33|     6.92|     93169.38|  69103.12|    24066.26|\n",
      "|  Sub-Saharan Africa|Sao Tome and Prin...|  Personal Care|       Online|             M| 9/17/2014|892836844|10/12/2014|      9118|     81.73|    56.67|    745214.14| 516717.06|   228497.08|\n",
      "|Central America a...|              Belize|      Household|      Offline|             H|  2/4/2010|129280602|  3/5/2010|      5858|    668.27|   502.54|   3914725.66|2943879.32|   970846.34|\n",
      "|              Europe|             Denmark|        Clothes|       Online|             C| 2/20/2013|473105037| 2/28/2013|      1149|    109.28|    35.84|    125562.72|  41180.16|    84382.56|\n",
      "|              Europe|             Germany|      Cosmetics|      Offline|             M| 3/31/2013|754046475|  5/3/2013|      7964|    437.20|   263.33|   3481860.80|2097160.12|  1384700.68|\n",
      "|Middle East and N...|              Turkey|         Fruits|       Online|             C| 3/26/2012|772153747|  4/7/2012|      6307|      9.33|     6.92|     58844.31|  43644.44|    15199.87|\n",
      "|              Europe|      United Kingdom|         Snacks|       Online|             H|12/29/2012|847788178| 1/15/2013|      8217|    152.58|    97.44|   1253749.86| 800664.48|   453085.38|\n",
      "|                Asia|          Kazakhstan|      Cosmetics|       Online|             H| 9/11/2015|471623599| 9/18/2015|      2758|    437.20|   263.33|   1205797.60| 726264.14|   479533.46|\n",
      "|Central America a...|               Haiti|      Cosmetics|       Online|             C|12/27/2013|554646337|  1/1/2014|      1031|    437.20|   263.33|    450753.20| 271493.23|   179259.97|\n",
      "|              Europe|               Italy|        Clothes|       Online|             M|12/17/2013|278155219| 1/10/2014|      1165|    109.28|    35.84|    127311.20|  41753.60|    85557.60|\n",
      "|              Europe|               Malta|      Household|      Offline|             L| 3/10/2015|243761575| 4/17/2015|      3322|    668.27|   502.54|   2219992.94|1669437.88|   550555.06|\n",
      "|Middle East and N...|              Jordan|      Household|      Offline|             L|  7/9/2014|223389232| 7/18/2014|      4693|    668.27|   502.54|   3136191.11|2358420.22|   777770.89|\n",
      "|                Asia|            Cambodia|     Vegetables|      Offline|             H| 6/14/2017|509274518| 6/29/2017|      4502|    154.06|    90.93|    693578.12| 409366.86|   284211.26|\n",
      "|Central America a...|Saint Kitts and N...|Office Supplies|       Online|             H| 8/10/2011|563966262| 8/29/2011|      9004|    651.21|   524.96|   5863494.84|4726739.84|  1136755.00|\n",
      "|  Sub-Saharan Africa|            Cameroon|         Fruits|       Online|             H|12/18/2015|370325791|  2/6/2016|      6486|      9.33|     6.92|     60514.38|  44883.12|    15631.26|\n",
      "|Middle East and N...|             Bahrain|     Vegetables|      Offline|             L| 6/26/2016|881526935| 7/19/2016|      2264|    154.06|    90.93|    348791.84| 205865.52|   142926.32|\n",
      "|Australia and Oce...|     Solomon Islands|      Beverages|      Offline|             C| 5/11/2015|871056020| 5/30/2015|      3688|     47.45|    31.79|    174995.60| 117241.52|    57754.08|\n",
      "|              Europe|              Monaco|Office Supplies|       Online|             M| 1/13/2012|982711875| 1/17/2012|      5137|    651.21|   524.96|   3345265.77|2696719.52|   648546.25|\n",
      "+--------------------+--------------------+---------------+-------------+--------------+----------+---------+----------+----------+----------+---------+-------------+----------+------------+\n",
      "only showing top 20 rows\n",
      "\n",
      "root\n",
      " |-- Region: string (nullable = true)\n",
      " |-- Country: string (nullable = true)\n",
      " |-- Item Type: string (nullable = true)\n",
      " |-- Sales Channel: string (nullable = true)\n",
      " |-- Order Priority: string (nullable = true)\n",
      " |-- Order Date: string (nullable = true)\n",
      " |-- Order ID: string (nullable = true)\n",
      " |-- Ship Date: string (nullable = true)\n",
      " |-- Units Sold: string (nullable = true)\n",
      " |-- Unit Price: string (nullable = true)\n",
      " |-- Unit Cost: string (nullable = true)\n",
      " |-- Total Revenue: string (nullable = true)\n",
      " |-- Total Cost: string (nullable = true)\n",
      " |-- Total Profit: string (nullable = true)\n",
      "\n"
     ]
    }
   ],
   "source": [
    "#How can you create a DataFrame a) using existing RDD, and b) from a CSV file?\n",
    "\n",
    "from pyspark.sql import SparkSession\n",
    "from pyspark.sql import SQLContext\n",
    "spark = SparkSession.builder.appName(\"IntQues\").getOrCreate()\n",
    "sales_File = \"D:\\Jupyter\\Data\\sales_records.csv\"\n",
    "file_data = spark.read.format(\"csv\").option(\"header\",\"true\").load(sales_File)\n",
    "print(type(file_data)) #dataframe\n",
    "\n",
    "#Creating RDD from existing DF\n",
    "file_data_rdd = file_data.rdd\n",
    "df_schema = file_data.schema\n",
    "print(df_schema)\n",
    "\n",
    "#Creating dataframe from RDD\n",
    "file_data_df = file_data_rdd.toDF()\n",
    "file_data_df.show()\n",
    "\n",
    "#RDD Schema\n",
    "file_data_df.printSchema()"
   ]
  },
  {
   "cell_type": "code",
   "execution_count": null,
   "id": "3b786961-a76f-406b-b1c3-ffc1564c3e3c",
   "metadata": {},
   "outputs": [],
   "source": [
    "#Explain the use of StructType and StructField classes in PySpark with examples.\n",
    "from pyspark.sql.types import StructType,StructField,StringType,IntegerType\n",
    "\n",
    "df_schema= StructType([StructField(\"Name\",StringType(),True),\n",
    "                       StructField(\"Age\",IntegerType(),True),\n",
    "                       StructField(\"Marks\",IntegerType(),True)])\n",
    "\n",
    "df_data = [(\"Ashish\",30,75),\n",
    "           (\"Himani\",45,77),\n",
    "          (\"Kaashvi\",1,87)]\n",
    "\n",
    "new_df = spark.createDataFrame(df_data,df_schema)\n",
    "new_df.show()\n",
    "new_df.printSchema()"
   ]
  },
  {
   "cell_type": "code",
   "execution_count": null,
   "id": "4a98c3ea-3077-4372-bc32-614a537beb81",
   "metadata": {},
   "outputs": [],
   "source": []
  },
  {
   "cell_type": "code",
   "execution_count": null,
   "id": "fe719dfa-7aee-4cf0-832e-2876114c9a7d",
   "metadata": {},
   "outputs": [],
   "source": []
  }
 ],
 "metadata": {
  "kernelspec": {
   "display_name": "Python 3 (ipykernel)",
   "language": "python",
   "name": "python3"
  },
  "language_info": {
   "codemirror_mode": {
    "name": "ipython",
    "version": 3
   },
   "file_extension": ".py",
   "mimetype": "text/x-python",
   "name": "python",
   "nbconvert_exporter": "python",
   "pygments_lexer": "ipython3",
   "version": "3.10.0"
  }
 },
 "nbformat": 4,
 "nbformat_minor": 5
}
